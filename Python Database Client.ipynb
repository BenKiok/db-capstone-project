{
 "cells": [
  {
   "cell_type": "code",
   "execution_count": 33,
   "id": "5dc7a160",
   "metadata": {},
   "outputs": [],
   "source": [
    "# Task 1\n",
    "import mysql.connector as connector\n",
    "connection = connector.connect(user='root', password='', db='little_lemon')"
   ]
  },
  {
   "cell_type": "code",
   "execution_count": 34,
   "id": "83dbe6d4",
   "metadata": {},
   "outputs": [
    {
     "name": "stdout",
     "output_type": "stream",
     "text": [
      "('Tables_in_little_lemon',)\n",
      "('Bookings',)\n",
      "('Employees',)\n",
      "('MenuItems',)\n",
      "('Menus',)\n",
      "('Orders',)\n"
     ]
    }
   ],
   "source": [
    "# Task 2\n",
    "cursor = connection.cursor()\n",
    "\n",
    "query = 'show tables;'\n",
    "cursor.execute(query)\n",
    "\n",
    "results = cursor.fetchall()\n",
    "print(cursor.column_names)\n",
    "for item in results:\n",
    "    print(item)"
   ]
  },
  {
   "cell_type": "code",
   "execution_count": null,
   "id": "cdc6df93",
   "metadata": {},
   "outputs": [],
   "source": [
    "# Task 3 - does not work given lack of little_lemon data and no Customers table\n",
    "query = '''\n",
    "    select Customers.Name as Name, \n",
    "           Customers.Email as Email,\n",
    "           Customers.Number as Number,\n",
    "           Orders.TotalCost as Cost\n",
    "    from Customers inner join Orders \n",
    "        on Customers.CustomerID = Orders.CustomerID\n",
    "    where Orders.TotalCost > 60;\n",
    "'''\n",
    "cursor.execute(query)\n",
    "results = cursor.fetchall()\n",
    "print(cursor.column_names)\n",
    "for item in results:\n",
    "    print(item)"
   ]
  }
 ],
 "metadata": {
  "kernelspec": {
   "display_name": "Python 3 (ipykernel)",
   "language": "python",
   "name": "python3"
  },
  "language_info": {
   "codemirror_mode": {
    "name": "ipython",
    "version": 3
   },
   "file_extension": ".py",
   "mimetype": "text/x-python",
   "name": "python",
   "nbconvert_exporter": "python",
   "pygments_lexer": "ipython3",
   "version": "3.11.7"
  }
 },
 "nbformat": 4,
 "nbformat_minor": 5
}
